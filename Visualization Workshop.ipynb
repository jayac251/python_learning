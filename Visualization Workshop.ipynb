{
 "cells": [
  {
   "cell_type": "markdown",
   "id": "c6255767",
   "metadata": {},
   "source": [
    "# One Dimensional Diagram ( Line and Bar)"
   ]
  },
  {
   "cell_type": "markdown",
   "id": "3b6883a7",
   "metadata": {},
   "source": [
    "### 1) Line Diagram"
   ]
  },
  {
   "cell_type": "markdown",
   "id": "5e86aeb0",
   "metadata": {},
   "source": [
    "The Following data show the number of accidents sustained by 100 drivers of a company in a particular year. Draw a suitable diagram\n",
    "\n",
    "<table>\n",
    "    <tr/>\n",
    "    <tr>\n",
    "        <td><b>Number of accidents</b></td>\n",
    "        <td>1</td>\n",
    "        <td>2</td>\n",
    "        <td>3</td>\n",
    "        <td>4</td>\n",
    "        <td>5</td>\n",
    "        <td>6</td>\n",
    "        <td>7</td>\n",
    "        <td>8</td>    \n",
    "    </tr>\n",
    "    <tr>\n",
    "        <td><b>Number of drivers</b></td>\n",
    "        <td>2</td>\n",
    "        <td>18</td>\n",
    "        <td>15</td>\n",
    "        <td>10</td>\n",
    "        <td>13</td>\n",
    "        <td>22</td>\n",
    "        <td>9</td>\n",
    "        <td>11</td>    \n",
    "    </tr>\n",
    "</table>"
   ]
  },
  {
   "cell_type": "code",
   "execution_count": 1,
   "id": "8800a042",
   "metadata": {},
   "outputs": [
    {
     "name": "stdout",
     "output_type": "stream",
     "text": [
      "   Number of accidents  Number of drivers\n",
      "0                    1                  2\n",
      "1                    2                 18\n",
      "2                    3                 15\n",
      "3                    4                 10\n",
      "4                    5                 13\n",
      "5                    6                 22\n",
      "6                    7                  9\n",
      "7                    8                 11\n"
     ]
    }
   ],
   "source": [
    "import pandas as pd\n",
    "\n",
    "data = {\n",
    "  \"Number of accidents\": list(range(1,9)),\n",
    "  \"Number of drivers\": [2, 18, 15, 10, 13, 22, 9, 11]\n",
    "}\n",
    "\n",
    "#load data into a DataFrame object:\n",
    "df = pd.DataFrame(data)\n",
    "\n",
    "print(df) "
   ]
  },
  {
   "cell_type": "code",
   "execution_count": 2,
   "id": "f6bf8d68",
   "metadata": {},
   "outputs": [
    {
     "data": {
      "text/plain": [
       "[<matplotlib.lines.Line2D at 0x20a73e80550>]"
      ]
     },
     "execution_count": 2,
     "metadata": {},
     "output_type": "execute_result"
    },
    {
     "data": {
      "image/png": "[encoded data removed]",
      "text/plain": [
       "<Figure size 432x288 with 1 Axes>"
      ]
     },
     "metadata": {
      "needs_background": "light"
     },
     "output_type": "display_data"
    }
   ],
   "source": [
    "import matplotlib.pyplot as plt\n",
    "\n",
    "\n",
    "plt.plot('Number of accidents', 'Number of drivers', data=df)"
   ]
  },
  {
   "cell_type": "code",
   "execution_count": 3,
   "id": "f1a7b957",
   "metadata": {},
   "outputs": [
    {
     "name": "stderr",
     "output_type": "stream",
     "text": [
      "No handles with labels found to put in legend.\n"
     ]
    },
    {
     "data": {
      "image/png": "[encoded data removed]",
      "text/plain": [
       "<Figure size 432x288 with 1 Axes>"
      ]
     },
     "metadata": {
      "needs_background": "light"
     },
     "output_type": "display_data"
    }
   ],
   "source": [
    "plt.vlines('Number of accidents', 'Number of drivers',ymax = 0, data=df)\n",
    "# Add title\n",
    "plt.title('No. of accidents sustained by 100 drivers of a company in a particular year')\n",
    "# Add legend\n",
    "plt.legend()\n",
    "# Show plot\n",
    "plt.show()"
   ]
  },
  {
   "cell_type": "markdown",
   "id": "a0d7b98d",
   "metadata": {},
   "source": [
    "### 2) Simple Bar Chart"
   ]
  },
  {
   "cell_type": "markdown",
   "id": "e335fac5",
   "metadata": {},
   "source": [
    "Draw a suitable bar diagram for the following:\n",
    "\n",
    "<table>\n",
    "    <tr/>\n",
    "    <tr>\n",
    "        <td><b>Year</b></td>\n",
    "        <td>2002</td>\n",
    "        <td>2003</td>\n",
    "        <td>2004</td>\n",
    "        <td>2005</td>\n",
    "        <td>2006</td>\n",
    "        <td>2007</td>          \n",
    "    </tr>\n",
    "    <tr>\n",
    "        <td><b>Profits</b></td>\n",
    "        <td>15000</td>\n",
    "        <td>18000</td>\n",
    "        <td>20000</td>\n",
    "        <td>16000</td>\n",
    "        <td>13000</td>\n",
    "        <td>17000</td>\n",
    "    </tr>\n",
    "</table>"
   ]
  },
  {
   "cell_type": "code",
   "execution_count": 8,
   "id": "b2b6bf60",
   "metadata": {},
   "outputs": [
    {
     "name": "stdout",
     "output_type": "stream",
     "text": [
      "   Year  Profits\n",
      "0  2002    15000\n",
      "1  2003    18000\n",
      "2  2004    20000\n",
      "3  2005    16000\n",
      "4  2006    13000\n",
      "5  2007    17000\n"
     ]
    }
   ],
   "source": [
    "data = {\n",
    "  \"Year\": list(range(2002,2008)),\n",
    "  \"Profits\": [15000, 18000, 20000, 16000, 13000, 17000]\n",
    "}\n",
    "\n",
    "#load data into a DataFrame object:\n",
    "df = pd.DataFrame(data)\n",
    "\n",
    "print(df) "
   ]
  },
  {
   "cell_type": "code",
   "execution_count": 41,
   "id": "9808a874",
   "metadata": {},
   "outputs": [
    {
     "data": {
      "image/png": "[encoded data removed]",
      "text/plain": [
       "<Figure size 600x300 with 1 Axes>"
      ]
     },
     "metadata": {
      "needs_background": "light"
     },
     "output_type": "display_data"
    }
   ],
   "source": [
    "import numpy as np\n",
    "\n",
    "# Create figure\n",
    "plt.figure(figsize=(6, 3), dpi=100)\n",
    "# Create bar plot\n",
    "width = 0.5\n",
    "plt.bar(df['Year'],df['Profits']/1000, width, label='Year',color = 'pink')\n",
    "\n",
    "# Add title\n",
    "\n",
    "plt.title('Profits comparison')\n",
    "plt.xlabel('Year')\n",
    "plt.ylabel('Profits')\n",
    "\n",
    "# Add legend\n",
    "plt.legend()\n",
    "\n",
    "# Show plot\n",
    "plt.show()"
   ]
  },
  {
   "cell_type": "markdown",
   "id": "c8fc2124",
   "metadata": {},
   "source": [
    "#### Horizontal Bar chart"
   ]
  },
  {
   "cell_type": "code",
   "execution_count": 68,
   "id": "ac20b688",
   "metadata": {},
   "outputs": [
    {
     "data": {
      "image/png": "[encoded data removed]",
      "text/plain": [
       "<Figure size 950x380 with 1 Axes>"
      ]
     },
     "metadata": {
      "needs_background": "light"
     },
     "output_type": "display_data"
    }
   ],
   "source": [
    "# Create figure\n",
    "plt.figure(figsize=(10, 4), dpi=95)\n",
    "\n",
    "# Create bar plot\n",
    "width = 0.5\n",
    "ax = plt.gca()\n",
    "hbars = plt.barh(df['Year'],df['Profits']/1000, width, label='Year',color = 'pink')\n",
    "\n",
    "# Add title\n",
    "plt.title('Profits comparison')\n",
    "plt.ylabel('Year')\n",
    "plt.xlabel('Profits')\n",
    "ax.bar_label(hbars)\n",
    "\n",
    "# Add legend\n",
    "plt.legend()\n",
    "\n",
    "# Show plot\n",
    "plt.show()"
   ]
  },
  {
   "cell_type": "markdown",
   "id": "109b641e",
   "metadata": {},
   "source": [
    "### 3) Multiple Bar Chart"
   ]
  },
  {
   "cell_type": "markdown",
   "id": "628ff65c",
   "metadata": {},
   "source": [
    "Draw a suitable bar diagram for the following:\n",
    "\n",
    "<table>\n",
    "    <tr/>\n",
    "    <tr>\n",
    "        <td><b>Year</b></td>\n",
    "        <td>2005</td>\n",
    "        <td>2006</td>\n",
    "        <td>2007</td>          \n",
    "    </tr>\n",
    "    <tr>\n",
    "        <td><b>A</b></td>\n",
    "        <td>10000</td>\n",
    "        <td>8000</td>\n",
    "        <td>13000</td>\n",
    "    </tr>\n",
    "    <tr>\n",
    "        <td><b>B</b></td>\n",
    "        <td>15000</td>\n",
    "        <td>13000</td>\n",
    "        <td>14000</td>\n",
    "    </tr>\n",
    "</table>"
   ]
  },
  {
   "cell_type": "code",
   "execution_count": 69,
   "id": "a882154d",
   "metadata": {},
   "outputs": [
    {
     "name": "stdout",
     "output_type": "stream",
     "text": [
      "   Year      A      B\n",
      "0  2005  10000  15000\n",
      "1  2006   8000  13000\n",
      "2  2007  13000  14000\n"
     ]
    }
   ],
   "source": [
    "data = {\n",
    "  \"Year\": list(range(2005,2008)),\n",
    "  \"A\": [10000,8000,13000],\n",
    "    \"B\":[15000,13000,14000]\n",
    "}\n",
    "\n",
    "#load data into a DataFrame object:\n",
    "df = pd.DataFrame(data)\n",
    "\n",
    "print(df) "
   ]
  },
  {
   "cell_type": "code",
   "execution_count": 99,
   "id": "0ed10fdd",
   "metadata": {},
   "outputs": [
    {
     "data": {
      "image/png": "[encoded data removed]",
      "text/plain": [
       "<Figure size 800x300 with 1 Axes>"
      ]
     },
     "metadata": {
      "needs_background": "light"
     },
     "output_type": "display_data"
    }
   ],
   "source": [
    "import numpy as np\n",
    "\n",
    "# Create figure\n",
    "plt.figure(figsize=(8, 3), dpi=100)\n",
    "\n",
    "pos = np.arange(len(df['Year'].array))\n",
    "\n",
    "# Create bar plot\n",
    "width = 0.2\n",
    "plt.bar(pos - width / 2,df['A'], width, label='A',color = 'pink')\n",
    "plt.bar(pos + width / 2,df['B'], width, label='B',color = 'orange')\n",
    "\n",
    "# Add title\n",
    "plt.xticks(pos, df['Year'])\n",
    "ax = plt.gca()\n",
    "plt.title('Profits comparison')\n",
    "plt.xlabel('Year')\n",
    "plt.ylabel('Profits')\n",
    "\n",
    "# Add legend\n",
    "plt.legend()\n",
    "\n",
    "# Show plot\n",
    "plt.show()"
   ]
  },
  {
   "cell_type": "code",
   "execution_count": null,
   "id": "17fc2337",
   "metadata": {},
   "outputs": [],
   "source": []
  },
  {
   "cell_type": "code",
   "execution_count": null,
   "id": "f0c1bb98",
   "metadata": {},
   "outputs": [],
   "source": []
  },
  {
   "cell_type": "code",
   "execution_count": null,
   "id": "fed256b7",
   "metadata": {},
   "outputs": [],
   "source": []
  }
 ],
 "metadata": {
  "kernelspec": {
   "display_name": "Python 3 (ipykernel)",
   "language": "python",
   "name": "python3"
  },
  "language_info": {
   "codemirror_mode": {
    "name": "ipython",
    "version": 3
   },
   "file_extension": ".py",
   "mimetype": "text/x-python",
   "name": "python",
   "nbconvert_exporter": "python",
   "pygments_lexer": "ipython3",
   "version": "3.9.7"
  }
 },
 "nbformat": 4,
 "nbformat_minor": 5
}
