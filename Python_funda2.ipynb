{
  "nbformat": 4,
  "nbformat_minor": 0,
  "metadata": {
    "colab": {
      "name": "Python_funda2.ipynb",
      "provenance": [],
      "authorship_tag": "ABX9TyOgfpNd1R6vJGLVUku0pHJL",
      "include_colab_link": true
    },
    "kernelspec": {
      "display_name": "Python 3",
      "name": "python3"
    },
    "language_info": {
      "name": "python"
    }
  },
  "cells": [
    {
      "cell_type": "markdown",
      "metadata": {
        "id": "view-in-github",
        "colab_type": "text"
      },
      "source": [
        "<a href=\"https://colab.research.google.com/github/jayac251/python_learning/blob/main/Python_funda2.ipynb\" target=\"_parent\"><img src=\"https://colab.research.google.com/assets/colab-badge.svg\" alt=\"Open In Colab\"/></a>"
      ]
    },
    {
      "cell_type": "code",
      "metadata": {
        "colab": {
          "base_uri": "https://localhost:8080/"
        },
        "id": "8ySLn_YUYiql",
        "outputId": "ad588412-795b-442a-9260-d704f03eaf5a"
      },
      "source": [
        "import pandas as pd\n",
        "\n",
        "s = pd.Series([0, 4, 6, 7])\n",
        "\n",
        "s.head(5)"
      ],
      "execution_count": null,
      "outputs": [
        {
          "data": {
            "text/plain": [
              "0    0\n",
              "1    4\n",
              "2    6\n",
              "3    7\n",
              "dtype: int64"
            ]
          },
          "execution_count": 4,
          "metadata": {},
          "output_type": "execute_result"
        }
      ]
    },
    {
      "cell_type": "code",
      "metadata": {
        "colab": {
          "base_uri": "https://localhost:8080/"
        },
        "id": "SnKJenCoHmfs",
        "outputId": "a091d4b6-cea0-408e-937e-cba9f3d1f70f"
      },
      "source": [
        "import numpy as np\n",
        "\n",
        "data = {i : np.random.randn() \n",
        "        for i in range(7)}\n",
        "\n",
        "print(data)\n"
      ],
      "execution_count": null,
      "outputs": [
        {
          "name": "stdout",
          "output_type": "stream",
          "text": [
            "{0: -2.6013823172393313, 1: 1.228868187333358, 2: -0.7757456645592485, 3: 0.5232667147421514, 4: 0.8010393633665273, 5: 0.5549793438017423, 6: 0.6675723229333285}\n",
            "[ 1.09084592  0.3472279  -0.83417102 -0.51313267 -1.25290245 -0.04230045]\n"
          ]
        }
      ]
    },
    {
      "cell_type": "code",
      "metadata": {
        "colab": {
          "base_uri": "https://localhost:8080/"
        },
        "id": "g3Ojw2DDYpje",
        "outputId": "196c7c09-3de9-427c-891e-c950d16aa81d"
      },
      "source": [
        "data = { i: \"apple\" for i in range(8)}\n",
        "\n",
        "data"
      ],
      "execution_count": null,
      "outputs": [
        {
          "data": {
            "text/plain": [
              "{0: 'apple',\n",
              " 1: 'apple',\n",
              " 2: 'apple',\n",
              " 3: 'apple',\n",
              " 4: 'apple',\n",
              " 5: 'apple',\n",
              " 6: 'apple',\n",
              " 7: 'apple'}"
            ]
          },
          "execution_count": 14,
          "metadata": {},
          "output_type": "execute_result"
        }
      ]
    },
    {
      "cell_type": "code",
      "metadata": {
        "colab": {
          "base_uri": "https://localhost:8080/",
          "height": 35
        },
        "id": "jzhXXWekLN7s",
        "outputId": "a1133e09-0db5-4987-ccfa-78fb93bc40e3"
      },
      "source": [
        "%pwd"
      ],
      "execution_count": null,
      "outputs": [
        {
          "data": {
            "application/vnd.google.colaboratory.intrinsic+json": {
              "type": "string"
            },
            "text/plain": [
              "'/content'"
            ]
          },
          "execution_count": 15,
          "metadata": {},
          "output_type": "execute_result"
        }
      ]
    },
    {
      "cell_type": "code",
      "metadata": {
        "id": "c6y66b80KINs"
      },
      "source": [
        "def balloons(color='Blue',size='small'):\n",
        "  \"\"\"\n",
        "  This function returns the given balloon color and size\n",
        "  \"\"\"\n",
        "  return color,size\n",
        "\n",
        "\n"
      ],
      "execution_count": null,
      "outputs": []
    },
    {
      "cell_type": "code",
      "metadata": {
        "colab": {
          "base_uri": "https://localhost:8080/"
        },
        "id": "EpRWZF5yLyKA",
        "outputId": "9202a8e7-4b94-4e64-9676-eb5806a86e3d"
      },
      "source": [
        "balloons(color='Red',size='big')"
      ],
      "execution_count": null,
      "outputs": [
        {
          "data": {
            "text/plain": [
              "('Red', 'big')"
            ]
          },
          "execution_count": 21,
          "metadata": {},
          "output_type": "execute_result"
        }
      ]
    },
    {
      "cell_type": "code",
      "metadata": {
        "id": "qAHRhFqCMBAA"
      },
      "source": [
        "balloons?"
      ],
      "execution_count": null,
      "outputs": []
    },
    {
      "cell_type": "code",
      "metadata": {
        "id": "miwIDEbWMRmX"
      },
      "source": [
        "data?"
      ],
      "execution_count": null,
      "outputs": []
    },
    {
      "cell_type": "code",
      "metadata": {
        "colab": {
          "base_uri": "https://localhost:8080/"
        },
        "id": "2ic_QlbuMTnI",
        "outputId": "87d23efe-b557-420a-aedd-2823199e8bd3"
      },
      "source": [
        "a = np.random.randn(2,2)\n",
        "\n",
        "b = np.random.rand(2,2)\n",
        "\n",
        "c = %time np.dot(a,b)\n",
        "\n",
        "a\n",
        "b\n",
        "\n",
        "c"
      ],
      "execution_count": null,
      "outputs": [
        {
          "name": "stdout",
          "output_type": "stream",
          "text": [
            "CPU times: user 22 µs, sys: 1e+03 ns, total: 23 µs\n",
            "Wall time: 27.4 µs\n"
          ]
        },
        {
          "data": {
            "text/plain": [
              "array([[ 0.93331441,  0.33659301],\n",
              "       [-0.29658812, -0.02729781]])"
            ]
          },
          "execution_count": 34,
          "metadata": {},
          "output_type": "execute_result"
        }
      ]
    },
    {
      "cell_type": "code",
      "metadata": {
        "colab": {
          "base_uri": "https://localhost:8080/"
        },
        "id": "4uStHKL5NriC",
        "outputId": "92f2e788-89bf-451b-e637-7aa0be4d1d65"
      },
      "source": [
        "#duck typing\n",
        "\n",
        "class Godzilla:\n",
        "  def Roar(self):\n",
        "    print(\"Godzilla: ROOOAaaaaarrrr!!!!\")\n",
        "\n",
        "class Kong:\n",
        "  def Roar(self):\n",
        "    print(\"Kong: Roooooaaaarrrr!!!\")\n",
        "\n",
        "def letsHearItOut(animal):\n",
        "  animal.Roar()\n",
        "\n",
        "letsHearItOut(Godzilla())\n",
        "letsHearItOut(Kong())\n"
      ],
      "execution_count": null,
      "outputs": [
        {
          "name": "stdout",
          "output_type": "stream",
          "text": [
            "Godzilla: ROOOAaaaaarrrr!!!!\n",
            "Kong: Roooooaaaarrrr!!!\n"
          ]
        }
      ]
    },
    {
      "cell_type": "code",
      "metadata": {
        "colab": {
          "base_uri": "https://localhost:8080/",
          "height": 35
        },
        "id": "4Dih_FOfRfNh",
        "outputId": "a70e11de-4dab-4855-8ba0-0ec604fb5860"
      },
      "source": [
        "#Terniary operation\n",
        "\n",
        "x = -5\n",
        "\n",
        "'Positive' if x >= 0 else 'Negative'"
      ],
      "execution_count": null,
      "outputs": [
        {
          "data": {
            "application/vnd.google.colaboratory.intrinsic+json": {
              "type": "string"
            },
            "text/plain": [
              "'Negative'"
            ]
          },
          "execution_count": 38,
          "metadata": {},
          "output_type": "execute_result"
        }
      ]
    },
    {
      "cell_type": "code",
      "metadata": {
        "colab": {
          "base_uri": "https://localhost:8080/"
        },
        "id": "HGRhSWZzSt_H",
        "outputId": "18b15d7e-c404-4b93-eff6-5c4d5f97f7d8"
      },
      "source": [
        "a = 6\n",
        "str = \"Lorem Ipsum is simply dummy text of the printing and typesetting industry. Lorem Ipsum has been the industry's standard dummy text ever since the 1500s, when an unknown printer took a galley of type and scrambled it to make a type specimen book. It has survived not only five centuries, but also the leap into electronic typesetting, remaining essentially unchanged. It was popularised in the 1960s with the release of Letraset sheets containing Lorem Ipsum passages, and more recently with desktop publishing software like Aldus PageMaker including versions of Lorem Ipsum.\"\n",
        "list1 = [1,2,3]\n",
        "\n",
        "tup = tuple([a,str,list1])\n",
        "\n",
        "tup[2]"
      ],
      "execution_count": null,
      "outputs": [
        {
          "data": {
            "text/plain": [
              "[1, 2, 3]"
            ]
          },
          "execution_count": 45,
          "metadata": {},
          "output_type": "execute_result"
        }
      ]
    },
    {
      "cell_type": "code",
      "metadata": {
        "id": "RyM_7J0PTFUY"
      },
      "source": [
        ""
      ],
      "execution_count": null,
      "outputs": []
    },
    {
      "cell_type": "code",
      "metadata": {
        "colab": {
          "base_uri": "https://localhost:8080/"
        },
        "id": "dPBIN5hje0oL",
        "outputId": "06354ed6-0699-4430-e562-7ad51083d52c"
      },
      "source": [
        "#binary search\n",
        "\n",
        "import bisect as bs\n",
        "\n",
        "a = [1,2,3,4,5,6,7,9,10,11]\n",
        "\n",
        "bs.bisect(a,12.5)\n",
        "\n",
        "bs.insort(a,-9)\n",
        "bs.insort(a,-100)\n",
        "bs.insort(a,600)\n",
        "\n",
        "\n",
        "a\n"
      ],
      "execution_count": null,
      "outputs": [
        {
          "data": {
            "text/plain": [
              "[-100, -9, 1, 2, 3, 4, 5, 6, 7, 9, 10, 11, 600]"
            ]
          },
          "execution_count": 52,
          "metadata": {},
          "output_type": "execute_result"
        }
      ]
    },
    {
      "cell_type": "code",
      "metadata": {
        "colab": {
          "base_uri": "https://localhost:8080/"
        },
        "id": "KeiW4sbUf6lE",
        "outputId": "ada1b610-703c-48ab-e577-513991f756d0"
      },
      "source": [
        "seq = [7, 2, 3, 7, 5, 6, 0, 1]\n",
        "\n",
        "print(seq[3:5])\n",
        "seq[3:4] = [6, 3, 9]\n",
        "\n",
        "print(seq[:])\n",
        "\n",
        "print(seq[:5])\n",
        "\n",
        "print(seq[-4:])\n",
        "\n",
        "print(seq[::-1]) #reverse list"
      ],
      "execution_count": null,
      "outputs": [
        {
          "name": "stdout",
          "output_type": "stream",
          "text": [
            "[7, 5]\n",
            "[7, 2, 3, 6, 3, 9, 5, 6, 0, 1]\n",
            "[7, 2, 3, 6, 3]\n",
            "[5, 6, 0, 1]\n",
            "[1, 5, 6, 7]\n"
          ]
        }
      ]
    },
    {
      "cell_type": "code",
      "metadata": {
        "colab": {
          "background_save": true,
          "base_uri": "https://localhost:8080/"
        },
        "id": "Iou-1lgSiAs6",
        "outputId": "3bad1c5f-7fd0-4634-f685-7142aa842ea0"
      },
      "source": [
        "seq1 = ['foo', 'bar', 'baz','u']\n",
        "\n",
        "seq2 = ['one', 'two', 'three', 'f']\n",
        "\n",
        "zipped = zip(seq1, seq2)\n",
        "\n",
        "list(zipped)"
      ],
      "execution_count": null,
      "outputs": [
        {
          "data": {
            "text/plain": [
              "[('foo', 'one'), ('bar', 'two'), ('baz', 'three'), ('u', 90)]"
            ]
          },
          "execution_count": null,
          "metadata": {},
          "output_type": "execute_result"
        }
      ]
    },
    {
      "cell_type": "code",
      "metadata": {
        "id": "MZ8R3-XLfWeT"
      },
      "source": [
        ""
      ],
      "execution_count": null,
      "outputs": []
    }
  ]
}