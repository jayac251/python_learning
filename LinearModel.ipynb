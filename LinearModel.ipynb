{
  "nbformat": 4,
  "nbformat_minor": 0,
  "metadata": {
    "colab": {
      "name": "LinearModel.ipynb",
      "provenance": [],
      "authorship_tag": "ABX9TyPprVi3ShHC1Bg+ylc8htAs",
      "include_colab_link": true
    },
    "kernelspec": {
      "name": "python3",
      "display_name": "Python 3"
    },
    "language_info": {
      "name": "python"
    }
  },
  "cells": [
    {
      "cell_type": "markdown",
      "metadata": {
        "id": "view-in-github",
        "colab_type": "text"
      },
      "source": [
        "<a href=\"https://colab.research.google.com/github/jayac251/python_learning/blob/main/LinearModel.ipynb\" target=\"_parent\"><img src=\"https://colab.research.google.com/assets/colab-badge.svg\" alt=\"Open In Colab\"/></a>"
      ]
    },
    {
      "cell_type": "code",
      "metadata": {
        "id": "GdUBBPo2a3ye"
      },
      "source": [
        "import numpy as np\n",
        "import matplotlib.pyplot as plt\n",
        "from scipy import stats\n",
        "\n",
        "\n",
        "Ambree_Score = np.array([['English',1,93],\n",
        "                ['Math',6,87],\n",
        "                ['History',2,70],\n",
        "                ['CSE',4,62],\n",
        "                ['Arts',4,86],\n",
        "                ['Biology',1,7],\n",
        "                ['Physics',3,73],\n",
        "                ['Chemistry',1,80],\n",
        "                ['Spanish',3,96]])\n",
        "\n",
        "Score_t = Ambree_Score.transpose();\n",
        "y = Score_t[2]\n",
        "x=Score_t[1]\n",
        "\n",
        "x = x.astype(np.int);\n",
        "y= y.astype(np.int);\n",
        "print(x)\n",
        "print(y)\n",
        "\n",
        "slope, intercept, r, p, std_err = stats.linregress(x, y)\n",
        "print(slope)\n",
        "print(intercept)\n",
        "print(\"Correlation Coefficient :\", r)\n",
        "print(p)\n",
        "print(std_err)\n",
        "\n",
        "def myfunc(x):\n",
        "  return slope * x + intercept\n",
        "\n",
        "mymodel = list(map(myfunc, x))\n",
        "\n",
        "plt.figure(figsize=(5, 8))\n",
        "plt.scatter(x, y)\n",
        "plt.xticks(np.arange(0, 10, 1))\n",
        "plt.yticks(np.arange(0, 100, 5))\n",
        "plt.plot(x,mymodel,color='red')\n",
        "plt.show()"
      ],
      "execution_count": null,
      "outputs": []
    }
  ]
}